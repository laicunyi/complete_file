{
 "cells": [
  {
   "cell_type": "markdown",
   "metadata": {},
   "source": [
    "### Here is the first h/a \n",
    "The deadline is on April 7, 2020, 23:59"
   ]
  },
  {
   "cell_type": "markdown",
   "metadata": {},
   "source": [
    "### Task 1.\n",
    "Consider 10 people left on the island. You can only know all the names (user tells you separating with a comma). The issue is that someone is a murderer (you don't know who). Assume the user knows more than you.   \n",
    "Create a program that will ask the user sequentially about each person if he(she) is the murderer. The user should answer like \"Yes\" or \"No\" answering the question \"Is (Name of a person) a murderer?\"  \n",
    "Then your program should identify positive answer and print out the result of investigation."
   ]
  },
  {
   "cell_type": "code",
   "execution_count": 4,
   "metadata": {},
   "outputs": [],
   "source": [
    "# Write your code here!\n"
   ]
  },
  {
   "cell_type": "markdown",
   "metadata": {},
   "source": [
    "### Task 2.\n",
    "Let there be a dictionary containing information about some disease. The dictionary looks as follows:  \n",
    "`data = {\"Country_name\": Num_of_illneses}`  \n",
    "Consider this particular dictionary:  \n",
    "`data = {\"China\": 90000, \"USA\": 100000, \"Italy\": 112000, \"Spain\": 92000, \"France\": 47000, \"UK\": 29000}`  \n",
    "Construct a program that will ask a user to update data for some 3 countries."
   ]
  },
  {
   "cell_type": "code",
   "execution_count": 5,
   "metadata": {},
   "outputs": [],
   "source": [
    "# Write your code here!\n"
   ]
  },
  {
   "cell_type": "markdown",
   "metadata": {},
   "source": [
    "### Task 3. \n",
    "Provide an algorithm that will request a person's personal data (name, surname, date of birth and address) and then store it inside a dictionary with the key being code like NS_20081995 (first two letters are from name and surname, numbers come from the birth date).  \n",
    "As an output your prog should print the constructed dictionary (it will contain one piece of data)."
   ]
  },
  {
   "cell_type": "code",
   "execution_count": 3,
   "metadata": {},
   "outputs": [],
   "source": [
    "# Write your code here!\n"
   ]
  },
  {
   "cell_type": "markdown",
   "metadata": {},
   "source": [
    "### Task 4.\n",
    "Let a user enter some date (example: 04.04.2020) and then make the prog print out the data in a format like `April 4, 2020 (leap year)`"
   ]
  },
  {
   "cell_type": "code",
   "execution_count": 6,
   "metadata": {},
   "outputs": [],
   "source": [
    "# Write your code here!\n"
   ]
  },
  {
   "cell_type": "markdown",
   "metadata": {},
   "source": [
    "### Task 5.\n",
    "Assume your user received a message that contains more than one sentence (all are separated with dots). You are to print that message line by line and finally print how many words the message contained, how many sentences and how many letters were used."
   ]
  },
  {
   "cell_type": "code",
   "execution_count": 7,
   "metadata": {},
   "outputs": [],
   "source": [
    "# Write your code here!\n"
   ]
  }
 ],
 "metadata": {
  "kernelspec": {
   "display_name": "Python 3",
   "language": "python",
   "name": "python3"
  },
  "language_info": {
   "codemirror_mode": {
    "name": "ipython",
    "version": 3
   },
   "file_extension": ".py",
   "mimetype": "text/x-python",
   "name": "python",
   "nbconvert_exporter": "python",
   "pygments_lexer": "ipython3",
   "version": "3.7.1"
  }
 },
 "nbformat": 4,
 "nbformat_minor": 2
}
